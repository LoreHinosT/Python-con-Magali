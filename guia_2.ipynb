{
 "cells": [
  {
   "cell_type": "code",
   "execution_count": null,
   "metadata": {},
   "outputs": [],
   "source": [
    "def subrutina():\n",
    "    global a \n",
    "    print(a)\n",
    "    a+=10\n",
    "    return\n",
    "a=33\n",
    "subrutina()\n",
    "print(a)\n",
    "#Resultado esperado: "
   ]
  },
  {
   "cell_type": "code",
   "execution_count": null,
   "metadata": {},
   "outputs": [],
   "source": [
    "def subrutina():\n",
    "    global a\n",
    "    print(a)\n",
    "    a=21\n",
    "    return\n",
    "subrutina()\n",
    "a=20\n",
    "print(a)"
   ]
  },
  {
   "cell_type": "markdown",
   "metadata": {},
   "source": [
    "Crear una funcion que pida al usuario el ancho y altura de un rectangulo y lo dibuje con caracteres prodcuto(*)"
   ]
  },
  {
   "cell_type": "code",
   "execution_count": null,
   "metadata": {},
   "outputs": [],
   "source": [
    "def rectangulo():\n",
    "    a=int (input(\"Ingrese ancho de rectangulo\"))\n",
    "    b=int (input(\"Ingrese altura de rectangulo\"))\n",
    "    if a==b:\n",
    "        print(\"No es un cuadrado\")\n",
    "    else:\n",
    "        for i in range(b):\n",
    "            print(a*\"* \")\n",
    "\n",
    "rectangulo()\n"
   ]
  },
  {
   "cell_type": "markdown",
   "metadata": {},
   "source": [
    "Crear una función que pida al usuario el ancho y altura de un rectángulo y\n",
    "también la figura para dibujarlo, por ejemplo un círculo representado con la letra o:"
   ]
  },
  {
   "cell_type": "code",
   "execution_count": null,
   "metadata": {},
   "outputs": [],
   "source": [
    "def rectangulo():\n",
    "    a=int (input(\"Ingrese ancho de rectangulo\"))\n",
    "    b=int (input(\"Ingrese altura de rectangulo\"))\n",
    "    caracter= str(input(\"Ingrese caracter a utilizar\"))\n",
    "    if a==b:\n",
    "        print(\"No es un cuadrado\")\n",
    "    else:\n",
    "        for i in range(b):\n",
    "            print(a*caracter)\n",
    "\n",
    "rectangulo()"
   ]
  },
  {
   "cell_type": "markdown",
   "metadata": {},
   "source": [
    "Crear una función que pida un año y que escriba si es bisiesto o no. Se recuerda que los años bisiestos son múltiplos de 4, pero los múltiplos de 100 no lo son, aunque los múltiplos de 400 sí. Estos son algunos ejemplos de posibles respuestas: 2012 es bisiesto, 2010 no es bisiesto, 2000 es bisiesto, 1900 no es bisiesto."
   ]
  },
  {
   "cell_type": "code",
   "execution_count": null,
   "metadata": {},
   "outputs": [],
   "source": [
    "def añoBisiesto():\n",
    "    año=int(input(\"Ingrese un año\"))\n",
    "    if año%4==0:\n",
    "        print(f\"El año\"{año}\"es un año bisiesto\")"
   ]
  },
  {
   "cell_type": "markdown",
   "metadata": {},
   "source": [
    "Crear una función que pida dos años y escriba cuántos años bisiestos hay entre esas dos fechas (incluidos los dos años)"
   ]
  },
  {
   "cell_type": "code",
   "execution_count": null,
   "metadata": {},
   "outputs": [],
   "source": [
    "def añoBisiesto():\n",
    "    año=int(input(\"Ingrese un año\"))\n",
    "    año2=int(input(\"Ingrese otro año\"))\n",
    "    cantidad=abs(año-año2)\n",
    "    añosb=0\n",
    "    for i in range(cantidad+1):\n",
    "        if año%4==0:\n",
    "             añosb+=1\n",
    "        año+=1\n",
    "    print(añosb)\n",
    "añoBisiesto()"
   ]
  },
  {
   "cell_type": "markdown",
   "metadata": {},
   "source": [
    "Crear una función que pida cuántas listas se quieren crear y las solicite a continuación:"
   ]
  },
  {
   "cell_type": "code",
   "execution_count": 8,
   "metadata": {},
   "outputs": [
    {
     "name": "stdout",
     "output_type": "stream",
     "text": [
      "La lista 1 es:['mana', 'rana', 'sana']\n",
      "La lista 2 es:['mono', 'rono']\n"
     ]
    }
   ],
   "source": [
    "def generadordelistas():\n",
    "    cantList=int(input(\"Ingrese la cantidad de listas\"))\n",
    "    for i in range(1,cantList+1):\n",
    "        cantWord=int(input(\"Ingrese la cantidad de palabras\"))\n",
    "        lista=[]\n",
    "        for l in range(1,cantWord+1):\n",
    "            word=input(f\"Digame la palabra {l}\")\n",
    "            lista.append(word)\n",
    "        print(f\"La lista {i} es:{lista}\")\n",
    "\n",
    "generadordelistas()\n"
   ]
  },
  {
   "cell_type": "markdown",
   "metadata": {},
   "source": [
    " Crear una función que recibe dos números y devuelve \"mayor\" (si el primer número es mayor que el segundo), \"menor\", o \"iguales\"."
   ]
  },
  {
   "cell_type": "code",
   "execution_count": null,
   "metadata": {},
   "outputs": [],
   "source": [
    "def compara_numeros(num1=0, num2=0):\n",
    "    if num1 > num2:\n",
    "        return \"mayor\"\n",
    "    elif num1 < num2:\n",
    "        return \"menor\"\n",
    "    else:\n",
    "        return \"iguales\"\n",
    "\n",
    "compara_numeros(1,5)\n",
    "compara_numeros(5,5)"
   ]
  },
  {
   "cell_type": "markdown",
   "metadata": {},
   "source": [
    "Crear una función que reciba un texto y devuelva el mismo texto pero con cada palabra invertida. Por ejemplo, llamándola con \"Esto es una prueba\", debe devolver \"otsE se anu abeurp\"."
   ]
  },
  {
   "cell_type": "code",
   "execution_count": 11,
   "metadata": {},
   "outputs": [
    {
     "data": {
      "text/plain": [
       "'erol sonih'"
      ]
     },
     "execution_count": 11,
     "metadata": {},
     "output_type": "execute_result"
    }
   ],
   "source": [
    "def invertText():\n",
    "    texto=input(\"Ingrese el texto a invertir\")\n",
    "    texto=texto.split() #convierte en una lista,sep \"\"\n",
    "    for i in range (len(texto)):\n",
    "        texto[i]=texto[i][::-1]#de atras para adelante, unidad por unidad y se lo vuelve asignar a la lista texto\n",
    "    texto=\" \".join(texto)#Es lo contrario de split, une cada termino con la separacion \" \"\n",
    "    return texto\n",
    "\n",
    "\n",
    "invertText()\n",
    "\n",
    "    "
   ]
  },
  {
   "cell_type": "markdown",
   "metadata": {},
   "source": [
    "Crear una función que reciba dos palabras y que imprima línea por línea las\n",
    "primeras, segundas, etc. letras de ambas palabras. Por ejemplo, llamándola con\n",
    "\"Hola\" y \"mundo\", el resultado sería:"
   ]
  },
  {
   "cell_type": "code",
   "execution_count": 44,
   "metadata": {},
   "outputs": [
    {
     "name": "stdout",
     "output_type": "stream",
     "text": [
      "l l\n",
      "o o\n",
      "r r\n",
      "e e\n",
      "  n\n",
      "  a\n"
     ]
    }
   ],
   "source": [
    "def ordenpalabras():\n",
    "    palabra1=input(\"Escriba la primer palabra\")\n",
    "    palabra2=input(\"Escriba la segunda palabra\")\n",
    "    if len(palabra1)>=len(palabra2):\n",
    "        palabra2=palabra2.ljust(len(palabra1),\"\") #Ajustamos la palabra 2 y rellenamos con espacios\n",
    "    else:\n",
    "        palabra1=palabra1.ljust(len(palabra2),\" \")\n",
    "    for l1,l2 in zip(palabra1,palabra2): #Zip asocia dos strings\n",
    "        print(l1,l2)\n",
    "ordenpalabras()"
   ]
  },
  {
   "cell_type": "markdown",
   "metadata": {},
   "source": [
    "Crear una función que reciba una tupla y devuelva si la tupla está ordenada (de\n",
    "menor a mayor) o no."
   ]
  },
  {
   "cell_type": "code",
   "execution_count": 46,
   "metadata": {},
   "outputs": [
    {
     "data": {
      "text/plain": [
       "'La tupla está ordenada'"
      ]
     },
     "execution_count": 46,
     "metadata": {},
     "output_type": "execute_result"
    }
   ],
   "source": [
    "def tupla_ordenada(tupla):\n",
    "    tupla_ord = list(tupla) # tupla hecha lista\n",
    "    tupla_ord = sorted(tupla_ord) #Ordena De manera creciente\n",
    "    tupla_ord = tuple(tupla_ord) #Vuelvo a convertir en una tupla\n",
    "    #Ahora comparamos\n",
    "    if tupla == tupla_ord:\n",
    "        return \"La tupla está ordenada\"\n",
    "    else:\n",
    "        return \"La tupla no está ordenada\"\n",
    "\n",
    "\n",
    "tupla_ordenada((1, 2, 3, 4))"
   ]
  },
  {
   "cell_type": "markdown",
   "metadata": {},
   "source": [
    "Crear una función que pida al usuario 3 números y devuelva cuál es el mayor,\n",
    "cuál es el menor y cuál es la media de los 3 números."
   ]
  },
  {
   "cell_type": "code",
   "execution_count": 52,
   "metadata": {},
   "outputs": [
    {
     "data": {
      "text/plain": [
       "(10, 1, 7.0)"
      ]
     },
     "execution_count": 52,
     "metadata": {},
     "output_type": "execute_result"
    }
   ],
   "source": [
    "def numero():\n",
    "    numeros=[]\n",
    "    for i in range(3):\n",
    "        n=int(input(\"Ingrese un numero\"))\n",
    "        numeros.append(n)\n",
    "    nMax=max(numeros)\n",
    "    nMin=min(numeros)\n",
    "    media=sum(numeros)/len(numeros)\n",
    "    return nMax,nMin,media\n",
    "\n",
    "numero()\n"
   ]
  },
  {
   "cell_type": "markdown",
   "metadata": {},
   "source": [
    "Escribir una función que tome una lista de palabras y devuelva cuál es la más\n",
    "larga y cuántos caracteres tiene."
   ]
  },
  {
   "cell_type": "code",
   "execution_count": 60,
   "metadata": {},
   "outputs": [
    {
     "data": {
      "text/plain": [
       "[['aconnnnnnnnnnnlchado', 20]]"
      ]
     },
     "execution_count": 60,
     "metadata": {},
     "output_type": "execute_result"
    }
   ],
   "source": [
    "def palabras(lista_palabras):\n",
    "    cant_letras = []\n",
    "    for palabra in lista_palabras:\n",
    "        letras = len(palabra)\n",
    "        cant_letras.append(letras)\n",
    "    \n",
    "    lista_pal_mas_largas = [] #Futuro resultado final\n",
    "\n",
    "    for pal, cant_l in zip(lista_palabras, cant_letras):\n",
    "        if cant_l == max(cant_letras):\n",
    "            lista_pal_mas_largas.append([pal, cant_l]) #Agrego la palabra y la cantidad de letras\n",
    "\n",
    "    return lista_pal_mas_largas\n",
    "\n",
    "\n",
    "palabras([\"mesa\",\"silla\", \"velador\", \"chocolate\", \"aconnnnnnnnnnnlchado\"]) "
   ]
  },
  {
   "cell_type": "code",
   "execution_count": 58,
   "metadata": {},
   "outputs": [
    {
     "name": "stdout",
     "output_type": "stream",
     "text": [
      "fef\n"
     ]
    }
   ],
   "source": []
  }
 ],
 "metadata": {
  "kernelspec": {
   "display_name": "Python 3.10.7 64-bit",
   "language": "python",
   "name": "python3"
  },
  "language_info": {
   "codemirror_mode": {
    "name": "ipython",
    "version": 3
   },
   "file_extension": ".py",
   "mimetype": "text/x-python",
   "name": "python",
   "nbconvert_exporter": "python",
   "pygments_lexer": "ipython3",
   "version": "3.10.7"
  },
  "orig_nbformat": 4,
  "vscode": {
   "interpreter": {
    "hash": "c63d8c7d738c2960218a10995aedf0a7f67a49a231e71037adf0440953cdb45b"
   }
  }
 },
 "nbformat": 4,
 "nbformat_minor": 2
}
