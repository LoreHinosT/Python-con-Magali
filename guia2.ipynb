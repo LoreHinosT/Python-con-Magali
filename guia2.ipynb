{
 "cells": [
  {
   "cell_type": "markdown",
   "metadata": {},
   "source": [
    "Ejercicio 1 Vamos a crear una clase llamada Persona. Sus atributos son: nombre, edad y DNI. Construir los siguientes métodos para la clase: ● Un constructor, donde los datos pueden estar vacíos. ● mostrar(): Muestra los datos de la persona. ● esMayorDeEdad(): Devuelve un valor lógico indicando si es mayor de edad"
   ]
  },
  {
   "cell_type": "code",
   "execution_count": 23,
   "metadata": {},
   "outputs": [],
   "source": [
    "class Persona:\n",
    "    def __init__(self,nombre,edad,dni):\n",
    "        self.nombre=nombre\n",
    "        self.edad=edad\n",
    "        self.dni=dni\n",
    "        \n",
    "    def mostrar(self): ##\n",
    "        print(self.nombre, \"tiene\",self.edad,\"y su dni es\", self.dni)\n",
    "    \n",
    "    def esMayorDeEdad(self):\n",
    "        if self.edad>17:\n",
    "            return True\n",
    "        else:\n",
    "            return False"
   ]
  },
  {
   "cell_type": "code",
   "execution_count": 51,
   "metadata": {},
   "outputs": [
    {
     "name": "stdout",
     "output_type": "stream",
     "text": [
      "flor tiene 19 y su dni es 55555\n",
      "True\n"
     ]
    }
   ],
   "source": [
    "flor=Persona(\"flor\",19,55555)\n",
    "flor.mostrar()\n",
    "print(flor.esMayorDeEdad())"
   ]
  },
  {
   "cell_type": "markdown",
   "metadata": {},
   "source": [
    "Ejercicio 2 Crea una clase llamada Cuenta que tendrá los siguientes atributos: titular (que es una persona) y cantidad (puede tener flotantes). Construir los siguientes métodos para la clase: ● Un constructor, donde los datos pueden estar vacíos. ● mostrar(): Muestra los datos de la cuenta. ● ingresar(cantidad): se ingresa una cantidad a la cuenta, si la cantidad introducida es negativa o 0 (cero), no se hará nada. ● retirar(cantidad): se retira una cantidad a la cuenta. La cuenta puede estar en números rojos (se puede retirar más de lo que se tiene"
   ]
  },
  {
   "cell_type": "code",
   "execution_count": 43,
   "metadata": {},
   "outputs": [],
   "source": [
    "class Cuenta:\n",
    "    def __init__(self,titular=Persona(\"nom\",3,444),cantidad=0):\n",
    "        self.titular=titular\n",
    "        self.cantidad=cantidad\n",
    "    def mostrar(self):\n",
    "        print(self.titular.mostrar())\n",
    "        print(\"$\",self.cantidad)\n",
    "    def ingresar(self,monto):\n",
    "        if monto>0:\n",
    "            self.cantidad+=monto\n",
    "        print(\"$\",self.cantidad)\n",
    "    def retirar(self,montoR):\n",
    "        self.cantidad-=montoR\n",
    "        print(\"$\",self.cantidad)\n",
    "\n"
   ]
  },
  {
   "cell_type": "code",
   "execution_count": 46,
   "metadata": {},
   "outputs": [
    {
     "name": "stdout",
     "output_type": "stream",
     "text": [
      "$ 44\n",
      "$ 99\n",
      "$ 95\n"
     ]
    }
   ],
   "source": [
    "cuenta1=Cuenta()\n",
    "cuenta1.ingresar(44)\n",
    "cuenta1.ingresar(55)\n",
    "cuenta1.retirar(4)"
   ]
  },
  {
   "cell_type": "markdown",
   "metadata": {},
   "source": [
    "Vamos a definir ahora una “Cuenta Joven”, para ello vamos a crear una nueva clase CuantaJoven que deriva de la anterior. Cuando se crea esta nueva clase, además del titular y la cantidad se debe guardar una bonificación que estará expresada en tanto por ciento.\n",
    "<br> Construir los siguientes métodos para la clase: ● Un constructor.\n",
    " ● En esta ocasión los titulares de este tipo de cuenta tienen que ser mayor de edad., por lo tanto hay que crear un método esTitularValido() que devuelve verdadero si el titular es mayor de edad pero menor de 25 años y falso en caso contrario.\n",
    "  ● Además la retirada de dinero sólo se podrá hacer si el titular es válido. \n",
    "  ● El método mostrar() debe devolver el mensaje de “Cuenta Joven de <titular>” y la bonificación de la cuenta.\n",
    "   ● Pensar los métodos heredados de la clase madre que hay que reescribir."
   ]
  },
  {
   "cell_type": "code",
   "execution_count": 52,
   "metadata": {},
   "outputs": [],
   "source": [
    "\n",
    "class CuentaJoven(Cuenta):\n",
    "    def __init__(self,titular,cantidad,bonificacion):\n",
    "        super().__init__(titular,cantidad)\n",
    "        self.cantidad=cantidad\n",
    "        self.bonificacion=bonificacion\n",
    "    def esTitularValido(self):\n",
    "        if self.titular.esMayorDeEdad() and self.titular.edad<25:\n",
    "            return True\n",
    "        else:\n",
    "            return False\n",
    "    def retirar(self,monto_r):\n",
    "        if self.esTitularValido():\n",
    "            self.cantidad-=monto_r\n",
    "            print(\"saldo disponible\",self.cantidad)\n",
    "        else:\n",
    "            print(\"No es un titular valido\")\n",
    "    def monstrar(self):\n",
    "        if self.esTitularValido():\n",
    "            return self.titular.mostrar()\n",
    "        else:\n",
    "            return \"No es un titular valido\""
   ]
  },
  {
   "cell_type": "code",
   "execution_count": 55,
   "metadata": {},
   "outputs": [
    {
     "data": {
      "text/plain": [
       "'lore'"
      ]
     },
     "execution_count": 55,
     "metadata": {},
     "output_type": "execute_result"
    }
   ],
   "source": [
    "cj=CuentaJoven(\"lore\",555,22)\n",
    "cj.titular"
   ]
  }
 ],
 "metadata": {
  "kernelspec": {
   "display_name": "Python 3.10.7 64-bit",
   "language": "python",
   "name": "python3"
  },
  "language_info": {
   "codemirror_mode": {
    "name": "ipython",
    "version": 3
   },
   "file_extension": ".py",
   "mimetype": "text/x-python",
   "name": "python",
   "nbconvert_exporter": "python",
   "pygments_lexer": "ipython3",
   "version": "3.10.7"
  },
  "orig_nbformat": 4,
  "vscode": {
   "interpreter": {
    "hash": "c63d8c7d738c2960218a10995aedf0a7f67a49a231e71037adf0440953cdb45b"
   }
  }
 },
 "nbformat": 4,
 "nbformat_minor": 2
}
