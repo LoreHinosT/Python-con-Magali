{
 "cells": [
  {
   "cell_type": "code",
   "execution_count": 3,
   "metadata": {},
   "outputs": [
    {
     "name": "stdout",
     "output_type": "stream",
     "text": [
      "Hello\n"
     ]
    }
   ],
   "source": [
    "def mensaje():\n",
    "    print(\"Hello\")\n",
    "\n",
    "mje=mensaje()\n",
    "######## en este caso usamos un print"
   ]
  },
  {
   "cell_type": "code",
   "execution_count": 6,
   "metadata": {},
   "outputs": [
    {
     "data": {
      "text/plain": [
       "'hello'"
      ]
     },
     "execution_count": 6,
     "metadata": {},
     "output_type": "execute_result"
    }
   ],
   "source": [
    "def mensaje():\n",
    "    mje=\"hello\"\n",
    "    return mje\n",
    "\n",
    "mensaje()\n",
    "########3en este caso usamos return"
   ]
  },
  {
   "cell_type": "code",
   "execution_count": 7,
   "metadata": {},
   "outputs": [
    {
     "name": "stdout",
     "output_type": "stream",
     "text": [
      "8..9..10!"
     ]
    }
   ],
   "source": [
    "print(8,9,10,sep=\"..\",end=\"!\")\n"
   ]
  },
  {
   "cell_type": "code",
   "execution_count": 9,
   "metadata": {},
   "outputs": [
    {
     "data": {
      "text/plain": [
       "0"
      ]
     },
     "execution_count": 9,
     "metadata": {},
     "output_type": "execute_result"
    }
   ],
   "source": [
    "##PARAMETROS INDEFINIDOS\n",
    "def suma(*args): #TUPLA\n",
    "    sumatoria=0\n",
    "    for arg in args:\n",
    "        sumatoria+=arg\n",
    "    return sumatoria\n",
    "######retorna cero\n",
    "suma()\n",
    "######retorna 2\n",
    "suma(1,2)\n",
    "#######retorna 6\n",
    "suma(1,2,3)"
   ]
  },
  {
   "cell_type": "code",
   "execution_count": 17,
   "metadata": {},
   "outputs": [],
   "source": [
    "##CLASES\n",
    "class Persona:\n",
    "    def __init__(self,nombre,anio,dni):\n",
    "        self.nombre=nombre\n",
    "        self.anio=anio\n",
    "        self.dni=dni\n",
    "        \n",
    "    def descripcion(self):\n",
    "        print(self.nombre, \"nacio en\",self.anio,\"y su dni es\", self.dni)\n"
   ]
  },
  {
   "cell_type": "code",
   "execution_count": 20,
   "metadata": {},
   "outputs": [
    {
     "name": "stdout",
     "output_type": "stream",
     "text": [
      "lorea\n",
      "lorea nacio en 1889 y su dni es 23433\n"
     ]
    }
   ],
   "source": [
    "objeto1=Persona(\"lorea\",1889,23433)\n",
    "print(objeto1.nombre)\n",
    "objeto1.descripcion()"
   ]
  },
  {
   "cell_type": "code",
   "execution_count": 21,
   "metadata": {},
   "outputs": [],
   "source": [
    "#HERENCIAS\n",
    "class Empleado(Persona):\n",
    "    def __init__(self,nombre,anio,dni,profesion,cargo):\n",
    "        super().__init__(nombre,anio,dni)\n",
    "        self.profesion=profesion\n",
    "        self.cargo=cargo\n",
    "        \n",
    "    def puesto(self):\n",
    "        print(self.nombre, \"es\",self.profesion,\"y ocupa el cargo de\", self.cargo)"
   ]
  },
  {
   "cell_type": "code",
   "execution_count": 23,
   "metadata": {},
   "outputs": [
    {
     "name": "stdout",
     "output_type": "stream",
     "text": [
      "Facu es Mecanico y ocupa el cargo de Jefe\n",
      "Mecanico\n"
     ]
    }
   ],
   "source": [
    "facu=Empleado(\"Facu\",1995,41643688,\"Mecanico\",\"Jefe\")\n",
    "#diferentes maneras de mostrar por pantalla, depende como hicimos la funcion en la clase\n",
    "facu.puesto()\n",
    "print(facu.profesion)"
   ]
  },
  {
   "cell_type": "code",
   "execution_count": null,
   "metadata": {},
   "outputs": [],
   "source": [
    "#encapsulamiento #privacion de alguna propiedad\n",
    "class Persona:\n",
    "    def __init__(self,nombre,anio,dni):\n",
    "        self.nombre=nombre\n",
    "        self.anio=anio\n",
    "        self.__dni=dni\n",
    "        \n",
    "    def descripcion(self):\n",
    "        print(self.nombre, \"nacio en\",self.anio,\"y su dni es\", self.__dni)"
   ]
  },
  {
   "cell_type": "code",
   "execution_count": 25,
   "metadata": {},
   "outputs": [
    {
     "ename": "AttributeError",
     "evalue": "'Persona' object has no attribute '__dni'",
     "output_type": "error",
     "traceback": [
      "\u001b[1;31m---------------------------------------------------------------------------\u001b[0m",
      "\u001b[1;31mAttributeError\u001b[0m                            Traceback (most recent call last)",
      "\u001b[1;32mc:\\Users\\hinos\\Desktop\\python\\clase4.ipynb Celda 10\u001b[0m in \u001b[0;36m<cell line: 2>\u001b[1;34m()\u001b[0m\n\u001b[0;32m      <a href='vscode-notebook-cell:/c%3A/Users/hinos/Desktop/python/clase4.ipynb#X12sZmlsZQ%3D%3D?line=0'>1</a>\u001b[0m objeto1\u001b[39m=\u001b[39mPersona(\u001b[39m\"\u001b[39m\u001b[39mlorea\u001b[39m\u001b[39m\"\u001b[39m,\u001b[39m1889\u001b[39m,\u001b[39m23433\u001b[39m)\n\u001b[1;32m----> <a href='vscode-notebook-cell:/c%3A/Users/hinos/Desktop/python/clase4.ipynb#X12sZmlsZQ%3D%3D?line=1'>2</a>\u001b[0m \u001b[39mprint\u001b[39m(objeto1\u001b[39m.\u001b[39;49m__dni)\n",
      "\u001b[1;31mAttributeError\u001b[0m: 'Persona' object has no attribute '__dni'"
     ]
    }
   ],
   "source": [
    "objeto1=Persona(\"lorea\",1889,23433)\n",
    "print(objeto1.__dni)\n"
   ]
  },
  {
   "cell_type": "code",
   "execution_count": 28,
   "metadata": {},
   "outputs": [],
   "source": [
    "###POLIMORFISMO (SOBREESCRIBIMOS UN METODO)\n",
    "\n",
    "class Persona:\n",
    "    def __init__(self,nombre,anio,dni):\n",
    "        self.nombre=nombre\n",
    "        self.anio=anio\n",
    "        self.dni=dni\n",
    "        \n",
    "    def descripcion(self): ##\n",
    "        print(self.nombre, \"nacio en\",self.anio,\"y su dni es\", self.dni)\n",
    "\n",
    "class Empleado(Persona):\n",
    "    def __init__(self,nombre,anio,dni,profesion,cargo):\n",
    "        super().__init__(nombre,anio,dni)\n",
    "        self.profesion=profesion\n",
    "        self.cargo=cargo\n",
    "        \n",
    "    def descripcion(self): ###sobreescribo el metodo de descripcion de la clase madre\n",
    "        print(self.nombre, \"es\",self.profesion,\"y ocupa el cargo de\", self.cargo)\n"
   ]
  },
  {
   "cell_type": "code",
   "execution_count": 29,
   "metadata": {},
   "outputs": [
    {
     "name": "stdout",
     "output_type": "stream",
     "text": [
      "lore es estudiante y ocupa el cargo de avanzada\n"
     ]
    }
   ],
   "source": [
    "lore=Empleado(\"lore\",23,234543,\"estudiante\",\"avanzada\")\n",
    "lore.descripcion() #prioriza la subclase"
   ]
  }
 ],
 "metadata": {
  "kernelspec": {
   "display_name": "Python 3.10.5 64-bit",
   "language": "python",
   "name": "python3"
  },
  "language_info": {
   "codemirror_mode": {
    "name": "ipython",
    "version": 3
   },
   "file_extension": ".py",
   "mimetype": "text/x-python",
   "name": "python",
   "nbconvert_exporter": "python",
   "pygments_lexer": "ipython3",
   "version": "3.10.5"
  },
  "orig_nbformat": 4,
  "vscode": {
   "interpreter": {
    "hash": "aefbf297d26aab56878c06c7774963f1dce68743f1e8068a55f0d13514600bda"
   }
  }
 },
 "nbformat": 4,
 "nbformat_minor": 2
}
