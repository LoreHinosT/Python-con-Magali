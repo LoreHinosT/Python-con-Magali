{
 "cells": [
  {
   "cell_type": "code",
   "execution_count": null,
   "metadata": {},
   "outputs": [],
   "source": [
    "Ejercicio 1 Vamos a crear una clase llamada Persona.\n",
    "Sus atributos son: nombre, edad y DNI.\n",
    "Construir los siguientes métodos para la clase:\n",
    "\n",
    "● Un constructor, donde los datos pueden estar vacíos. (Valores por defecto)\n",
    "● mostrar(): Muestra los datos de la persona. \n",
    "● esMayorDeEdad(): Devuelve un valor lógico indicando si es mayor de edad"
   ]
  },
  {
   "cell_type": "code",
   "execution_count": 26,
   "metadata": {},
   "outputs": [],
   "source": [
    "class Persona:\n",
    "    def __init__(self,nombre=\"Juan\",edad=0,dni=123456):\n",
    "        self.nombre=nombre\n",
    "        self.edad=edad\n",
    "        self.dni=dni\n",
    "    def mostrar(self):\n",
    "        return f\"\"\"Nombre: {self.nombre}\n",
    "    Edad: {self.edad}\n",
    "    DNI:{self.dni}\"\"\"\n",
    "    def esMayorDeEdad(self):\n",
    "        if self.edad>=18:\n",
    "            return True\n",
    "        else:\n",
    "            return False"
   ]
  },
  {
   "cell_type": "markdown",
   "metadata": {},
   "source": [
    "Crea una clase llamada Cuenta que tendrá los siguientes atributos: titular (que es una\n",
    "persona) y cantidad (puede tener flotantes). Construir los siguientes métodos para la\n",
    "clase:\n",
    "● Un constructor, donde los datos pueden estar vacíos.\n",
    "● mostrar(): Muestra los datos de la cuenta.\n",
    "● ingresar(cantidad): se ingresa una cantidad a la cuenta, si la cantidad introducida\n",
    "es negativa o 0 (cero), no se hará nada.\n",
    "● retirar(cantidad): se retira una cantidad a la cuenta. La cuenta puede estar en\n",
    "números rojos (se puede retirar más de lo que se tiene)"
   ]
  },
  {
   "cell_type": "code",
   "execution_count": 27,
   "metadata": {},
   "outputs": [],
   "source": [
    "class Cuenta:\n",
    "    def __init__(self,titular=Persona(),cantidad=0.0):\n",
    "        self.titular=titular\n",
    "        self.cantidad=cantidad\n",
    "    def mostrar(self): #Metodo heredado de la clase persona self.titular.mostrar()\n",
    "        return f\"\"\"{self.titular.mostrar()} \n",
    "        y cantidad {self.cantidad}\n",
    "        \"\"\"\n",
    "    def ingresar(self,dinero):\n",
    "        if dinero>0:\n",
    "            self.cantidad+=dinero\n",
    "        return self.cantidad\n",
    "\n",
    "    def retirar(self,dinerpi):\n",
    "        self.cantidad-=dinerpi\n",
    "        return self.cantidad\n"
   ]
  },
  {
   "cell_type": "code",
   "execution_count": 44,
   "metadata": {},
   "outputs": [
    {
     "data": {
      "text/plain": [
       "'Nombre: Lore\\n    Edad: 22\\n    DNI:32454 \\n        y cantidad 500\\n        '"
      ]
     },
     "execution_count": 44,
     "metadata": {},
     "output_type": "execute_result"
    }
   ],
   "source": [
    "Lorena=Persona(\"Lore\",22,32454)\n",
    "CuentaLore=Cuenta(Lorena,500)\n",
    "CuentaLore.mostrar()"
   ]
  },
  {
   "cell_type": "markdown",
   "metadata": {},
   "source": [
    "Ejercicio 3<br>\n",
    "Vamos a definir ahora una “Cuenta Joven”, para ello vamos a crear una nueva clase\n",
    "CuantaJoven que deriva de la anterior. Cuando se crea esta nueva clase, además del\n",
    "titular y la cantidad se debe guardar una bonificación que estará expresada en tanto por\n",
    "ciento. Construir los siguientes métodos para la clase:<br>\n",
    "● Un constructor.<br>\n",
    "● En esta ocasión los titulares de este tipo de cuenta tienen que ser mayor de\n",
    "edad., por lo tanto hay que crear un método esTitularValido() que devuelve\n",
    "verdadero si el titular es mayor de edad pero menor de 25 años y falso en caso\n",
    "contrario.<br>\n",
    "● Además la retirada de dinero sólo se podrá hacer si el titular es válido.<br>\n",
    "● El método mostrar() debe devolver el mensaje de “Cuenta Joven de *titular*” y\n",
    "la bonificación de la cuenta.<br>\n",
    "● Pensar los métodos heredados de la clase madre que hay que reescribir."
   ]
  },
  {
   "cell_type": "code",
   "execution_count": 39,
   "metadata": {},
   "outputs": [],
   "source": [
    "class CuentaJoven(Cuenta): #HERENCIA DIRECTA\n",
    "    def __init__(self,titular,cantidad,bonificacion):\n",
    "        super().__init__(titular, cantidad) #DE LA SUPERCLASE\n",
    "        self.bonificacion = bonificacion \n",
    "\n",
    "    def esTitularValido(self):\n",
    "        if self.titular.esMayorDeEdad() and self.titular.edad<25:\n",
    "            return True\n",
    "        else:\n",
    "            return False\n",
    "    def retiradaDinero(self,din):\n",
    "        if self.esTitularValido()==True:\n",
    "            self.cantidad-=din\n",
    "            return self.cantidad\n",
    "        else:\n",
    "            return \"No es posible retirar dinero\"\n",
    "    def mostrar(self):\n",
    "        return f\"\"\"Cuenta Joven de\n",
    "        {self.titular.mostrar()} y bonificacion  {self.bonificacion}\"\"\"\n",
    "    \n"
   ]
  },
  {
   "cell_type": "code",
   "execution_count": 47,
   "metadata": {},
   "outputs": [
    {
     "data": {
      "text/plain": [
       "'Cuenta Joven de\\n        Nombre: Lore\\n    Edad: 22\\n    DNI:32454 y bonificacion  522'"
      ]
     },
     "execution_count": 47,
     "metadata": {},
     "output_type": "execute_result"
    }
   ],
   "source": [
    "LorejovenCuenta=CuentaJoven(Lorena,22,522)\n",
    "LorejovenCuenta.esTitularValido()\n",
    "LorejovenCuenta.retiradaDinero(20)\n",
    "LorejovenCuenta.mostrar()"
   ]
  }
 ],
 "metadata": {
  "kernelspec": {
   "display_name": "Python 3.10.7 64-bit",
   "language": "python",
   "name": "python3"
  },
  "language_info": {
   "codemirror_mode": {
    "name": "ipython",
    "version": 3
   },
   "file_extension": ".py",
   "mimetype": "text/x-python",
   "name": "python",
   "nbconvert_exporter": "python",
   "pygments_lexer": "ipython3",
   "version": "3.10.7"
  },
  "orig_nbformat": 4,
  "vscode": {
   "interpreter": {
    "hash": "c63d8c7d738c2960218a10995aedf0a7f67a49a231e71037adf0440953cdb45b"
   }
  }
 },
 "nbformat": 4,
 "nbformat_minor": 2
}
