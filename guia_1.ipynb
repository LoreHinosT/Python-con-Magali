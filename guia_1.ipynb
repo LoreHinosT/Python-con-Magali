{
 "cells": [
  {
   "cell_type": "markdown",
   "metadata": {},
   "source": [
    "1. Crear un programa que muestre por pantalla el texto ¡Hola Mundo!."
   ]
  },
  {
   "cell_type": "code",
   "execution_count": 1,
   "metadata": {},
   "outputs": [
    {
     "name": "stdout",
     "output_type": "stream",
     "text": [
      "Hola  Mundo!\n"
     ]
    }
   ],
   "source": [
    "print(\"Hola  Mundo!\")"
   ]
  },
  {
   "cell_type": "markdown",
   "metadata": {},
   "source": [
    "2. Crear un programa que almacene el texto ¡Hola Mundo! en una variable y luego imprima dicho contenido por pantalla."
   ]
  },
  {
   "cell_type": "code",
   "execution_count": 1,
   "metadata": {},
   "outputs": [
    {
     "name": "stdout",
     "output_type": "stream",
     "text": [
      "Hola Mundo!\n"
     ]
    }
   ],
   "source": [
    "frase=\"Hola Mundo!\"\n",
    "print(frase)"
   ]
  },
  {
   "cell_type": "markdown",
   "metadata": {},
   "source": [
    "3. Crear un programa que pregunte el nombre del usuario y después de que el usuario lo introduzca muestre por pantalla la cadena ¡Hola <nombre>!, donde <nombre> es el nombre que el usuario haya introducido"
   ]
  },
  {
   "cell_type": "code",
   "execution_count": 3,
   "metadata": {},
   "outputs": [
    {
     "name": "stdout",
     "output_type": "stream",
     "text": [
      "Hola lorena!\n"
     ]
    }
   ],
   "source": [
    "nombre=input(\"Ingrese su nombre\")\n",
    "print(\"Hola\",nombre+\"!\")"
   ]
  },
  {
   "cell_type": "markdown",
   "metadata": {},
   "source": [
    "4. Crear un programa que pida al usuario dos números enteros y muestre por pantalla la división de <n> entre <m> da un cociente <c> y un resto <r> donde <n> y <m> son los números introducidos por el usuario, y <c> y <r> son el cociente y el resto de la división entera respectivamente."
   ]
  },
  {
   "cell_type": "code",
   "execution_count": 4,
   "metadata": {},
   "outputs": [
    {
     "name": "stdout",
     "output_type": "stream",
     "text": [
      "La division de 5 entre 4 da un cociente 1 y un resto 1\n"
     ]
    }
   ],
   "source": [
    "n=int(input(\"Ingrese el primer numero entero\"))\n",
    "m=int(input(\"Ingrese el segundo numero entero\"))\n",
    "c=n//m\n",
    "r=n%m\n",
    "print(\"La division de\",n,\"entre\",m,\"da un cociente\",c,\"y un resto\",r)"
   ]
  },
  {
   "cell_type": "markdown",
   "metadata": {},
   "source": [
    "5. Una juguetería tiene mucho éxito en dos de sus productos: payasos y muñecas. Suele hacer venta por correo y la empresa de logística les cobra por peso de cada paquete así que deben calcular el peso de los payasos y muñecas que saldrán en cada paquete a demanda. Cada payaso pesa 112 g y cada muñeca 75 g. Escribir un programa que lea el número de payasos y muñecas vendidos en el último pedido y calcule el peso total del paquete que será enviado"
   ]
  },
  {
   "cell_type": "code",
   "execution_count": 12,
   "metadata": {},
   "outputs": [
    {
     "name": "stdout",
     "output_type": "stream",
     "text": [
      "Peso total del pedido: 823 g\n"
     ]
    }
   ],
   "source": [
    "payasos=int(input(\"Ingrese el numero de payasos vendidos\"))\n",
    "muñecas=int(input(\"Ingrese el numero de muñecas vendidas\"))\n",
    "p_total=payasos*112+muñecas*75\n",
    "print(\"Peso total del pedido:\",p_total,\"g\")"
   ]
  },
  {
   "cell_type": "markdown",
   "metadata": {},
   "source": [
    "6. Crear un programa que pregunte el nombre del usuario en la consola y después de que el usuario lo introduzca muestre por pantalla <nombre> tiene <n> letras, donde <nombre> es el nombre de usuario y <n> es el número de letras que tienen el nombre."
   ]
  },
  {
   "cell_type": "code",
   "execution_count": 5,
   "metadata": {},
   "outputs": [
    {
     "name": "stdout",
     "output_type": "stream",
     "text": [
      "facundo tiene 7 letras\n",
      "facundo tiene 7 letras\n"
     ]
    }
   ],
   "source": [
    "nombre=input(\"Ingrese el nombre de usuario\")\n",
    "k=0\n",
    "for i in nombre:\n",
    "    k+=1\n",
    "print(nombre,\"tiene\",k,\"letras\")\n",
    "###################METODO\n",
    "n=len(nombre)\n",
    "print(nombre,\"tiene\",n,\"letras\")"
   ]
  },
  {
   "cell_type": "markdown",
   "metadata": {},
   "source": [
    "7. Crear un programa que pida al usuario que introduzca una frase y una letra y muestre por pantalla cuántas veces aparece dicha letra en la frase."
   ]
  },
  {
   "cell_type": "code",
   "execution_count": 8,
   "metadata": {},
   "outputs": [
    {
     "name": "stdout",
     "output_type": "stream",
     "text": [
      "En la frase ingresada aparece 2 veces la letra o\n",
      "En la frase ingresada aparece 2 veces la letra o\n"
     ]
    }
   ],
   "source": [
    "frase=input(\"Ingrese una frase\").lower() #PARA CAMBIAR A MINUSCULAS O USAR upper\n",
    "letra=input(\"Ingrese la letra a analizar\").lower()\n",
    "k=0\n",
    "for i in frase:\n",
    "    if i==letra:\n",
    "        k+=1\n",
    "print(\"En la frase ingresada aparece\",k,\"veces la letra\",letra)\n",
    "#################################################METODO\n",
    "cant_letra=frase.count(letra)\n",
    "print(\"En la frase ingresada aparece\",k,\"veces la letra\",letra)\n",
    "\n"
   ]
  },
  {
   "cell_type": "markdown",
   "metadata": {},
   "source": [
    "8. Crear un programa que pregunte al usuario su edad y muestre por pantalla si es mayor de edad o no"
   ]
  },
  {
   "cell_type": "code",
   "execution_count": 26,
   "metadata": {},
   "outputs": [
    {
     "name": "stdout",
     "output_type": "stream",
     "text": [
      "Usted es mayor de edad\n"
     ]
    }
   ],
   "source": [
    "edad=int(input(\"Ingrese su edad\"))\n",
    "if edad<18:\n",
    "    print(\"Usted es menor de edad\")\n",
    "else:\n",
    "    print(\"Usted es mayor de edad\")\n"
   ]
  },
  {
   "cell_type": "markdown",
   "metadata": {},
   "source": [
    "9. Crear un programa que pida al usuario un número entero y muestre por pantalla si es par o impar"
   ]
  },
  {
   "cell_type": "code",
   "execution_count": 28,
   "metadata": {},
   "outputs": [
    {
     "name": "stdout",
     "output_type": "stream",
     "text": [
      "3 es numero impar\n"
     ]
    }
   ],
   "source": [
    "num=int(input(\"Ingrese un numero entero\"))\n",
    "if num%2==0:\n",
    "    print(num,\"es un numero par\")\n",
    "else:\n",
    "    print(num,\"es numero impar\")"
   ]
  },
  {
   "cell_type": "markdown",
   "metadata": {},
   "source": [
    "10. Crear un programa que pida al usuario una palabra y la muestre por pantalla 10 veces."
   ]
  },
  {
   "cell_type": "code",
   "execution_count": 32,
   "metadata": {},
   "outputs": [
    {
     "name": "stdout",
     "output_type": "stream",
     "text": [
      "lore\n",
      "lore\n",
      "lore\n",
      "lore\n",
      "lore\n",
      "lore\n",
      "lore\n",
      "lore\n",
      "lore\n",
      "lore\n"
     ]
    }
   ],
   "source": [
    "palabra=input(\"Ingrese una palabra\")\n",
    "for i in range(10): #ciclo repetitivo de 10 veces\n",
    "    print(palabra)"
   ]
  },
  {
   "cell_type": "markdown",
   "metadata": {},
   "source": [
    "11. Crear un programa que pida al usuario una palabra y un número y muestre por pantalla la palabra la cantidad de número. Ejemplo si número es 5, mostrar la palabra 5 veces."
   ]
  },
  {
   "cell_type": "code",
   "execution_count": 34,
   "metadata": {},
   "outputs": [
    {
     "name": "stdout",
     "output_type": "stream",
     "text": [
      "lorena\n",
      "lorena\n",
      "lorena\n",
      "lorena\n"
     ]
    }
   ],
   "source": [
    "palabra=input(\"Ingrese una palabra\")\n",
    "n=int(input(\"Ingrese un numero\"))\n",
    "for i in range(n):\n",
    "    print(palabra)"
   ]
  },
  {
   "cell_type": "markdown",
   "metadata": {},
   "source": [
    "12. Crear un programa que pregunte al usuario su edad y muestre por pantalla todos los años que ha cumplido (desde 1 hasta su edad)"
   ]
  },
  {
   "cell_type": "code",
   "execution_count": 9,
   "metadata": {},
   "outputs": [
    {
     "name": "stdout",
     "output_type": "stream",
     "text": [
      "Años cumplidos:\n",
      "1\n",
      "2\n",
      "3\n",
      "4\n",
      "5\n"
     ]
    }
   ],
   "source": [
    "edad=int(input(\"Ingrese su edad\"))\n",
    "print(\"Años cumplidos:\")\n",
    "for i in range(edad):\n",
    "    print(i+1)"
   ]
  },
  {
   "cell_type": "markdown",
   "metadata": {},
   "source": [
    "13. Crear un programa que muestre por pantalla la tabla de multiplicar del 1 al 10. Pista: va un for dentro de otro for."
   ]
  },
  {
   "cell_type": "code",
   "execution_count": 41,
   "metadata": {},
   "outputs": [
    {
     "name": "stdout",
     "output_type": "stream",
     "text": [
      "1 x 1 = 1\n",
      "1 x 2 = 2\n",
      "1 x 3 = 3\n",
      "1 x 4 = 4\n",
      "1 x 5 = 5\n",
      "1 x 6 = 6\n",
      "1 x 7 = 7\n",
      "1 x 8 = 8\n",
      "1 x 9 = 9\n",
      "1 x 10 = 10\n",
      "2 x 1 = 2\n",
      "2 x 2 = 4\n",
      "2 x 3 = 6\n",
      "2 x 4 = 8\n",
      "2 x 5 = 10\n",
      "2 x 6 = 12\n",
      "2 x 7 = 14\n",
      "2 x 8 = 16\n",
      "2 x 9 = 18\n",
      "2 x 10 = 20\n",
      "3 x 1 = 3\n",
      "3 x 2 = 6\n",
      "3 x 3 = 9\n",
      "3 x 4 = 12\n",
      "3 x 5 = 15\n",
      "3 x 6 = 18\n",
      "3 x 7 = 21\n",
      "3 x 8 = 24\n",
      "3 x 9 = 27\n",
      "3 x 10 = 30\n",
      "4 x 1 = 4\n",
      "4 x 2 = 8\n",
      "4 x 3 = 12\n",
      "4 x 4 = 16\n",
      "4 x 5 = 20\n",
      "4 x 6 = 24\n",
      "4 x 7 = 28\n",
      "4 x 8 = 32\n",
      "4 x 9 = 36\n",
      "4 x 10 = 40\n",
      "5 x 1 = 5\n",
      "5 x 2 = 10\n",
      "5 x 3 = 15\n",
      "5 x 4 = 20\n",
      "5 x 5 = 25\n",
      "5 x 6 = 30\n",
      "5 x 7 = 35\n",
      "5 x 8 = 40\n",
      "5 x 9 = 45\n",
      "5 x 10 = 50\n",
      "6 x 1 = 6\n",
      "6 x 2 = 12\n",
      "6 x 3 = 18\n",
      "6 x 4 = 24\n",
      "6 x 5 = 30\n",
      "6 x 6 = 36\n",
      "6 x 7 = 42\n",
      "6 x 8 = 48\n",
      "6 x 9 = 54\n",
      "6 x 10 = 60\n",
      "7 x 1 = 7\n",
      "7 x 2 = 14\n",
      "7 x 3 = 21\n",
      "7 x 4 = 28\n",
      "7 x 5 = 35\n",
      "7 x 6 = 42\n",
      "7 x 7 = 49\n",
      "7 x 8 = 56\n",
      "7 x 9 = 63\n",
      "7 x 10 = 70\n",
      "8 x 1 = 8\n",
      "8 x 2 = 16\n",
      "8 x 3 = 24\n",
      "8 x 4 = 32\n",
      "8 x 5 = 40\n",
      "8 x 6 = 48\n",
      "8 x 7 = 56\n",
      "8 x 8 = 64\n",
      "8 x 9 = 72\n",
      "8 x 10 = 80\n",
      "9 x 1 = 9\n",
      "9 x 2 = 18\n",
      "9 x 3 = 27\n",
      "9 x 4 = 36\n",
      "9 x 5 = 45\n",
      "9 x 6 = 54\n",
      "9 x 7 = 63\n",
      "9 x 8 = 72\n",
      "9 x 9 = 81\n",
      "9 x 10 = 90\n",
      "10 x 1 = 10\n",
      "10 x 2 = 20\n",
      "10 x 3 = 30\n",
      "10 x 4 = 40\n",
      "10 x 5 = 50\n",
      "10 x 6 = 60\n",
      "10 x 7 = 70\n",
      "10 x 8 = 80\n",
      "10 x 9 = 90\n",
      "10 x 10 = 100\n"
     ]
    }
   ],
   "source": [
    "for i in range(1,11):\n",
    "    for k in range(1,11):\n",
    "        p=i*k\n",
    "        print(i,\"x\",k,\"=\",p)\n"
   ]
  },
  {
   "cell_type": "markdown",
   "metadata": {},
   "source": [
    "14. Crear un programa que muestre el eco de todo lo que el usuario introduzca hasta que el usuario escriba “salir” que terminará."
   ]
  },
  {
   "cell_type": "code",
   "execution_count": 10,
   "metadata": {},
   "outputs": [
    {
     "name": "stdout",
     "output_type": "stream",
     "text": [
      "lore\n",
      "lop\n"
     ]
    }
   ],
   "source": [
    "while True: #GENERO UN BUCLE INFINITO, SE GENERARA AL MENOS UNA VEZ\n",
    "    frase=input(\"Ingrese algo:\")\n",
    "    if frase==\"salir\":\n",
    "        break\n",
    "    print(frase)\n",
    "################################\n",
    "#while rta!=\"salir\":#"
   ]
  },
  {
   "cell_type": "markdown",
   "metadata": {},
   "source": [
    "15. Crear un programa que almacene las asignaturas de un curso (por ejemplo Matemáticas, Física, Química, Historia y Lengua) en una lista, pregunte al usuario la nota que ha sacado en cada asignatura, y después las muestre por pantalla con el mensaje En <asignatura> has sacado <nota> donde <asignatura> es cada una des las asignaturas de la lista y <nota> cada una de las correspondientes notas introducidas por el usuario."
   ]
  },
  {
   "cell_type": "code",
   "execution_count": 18,
   "metadata": {},
   "outputs": [
    {
     "name": "stdout",
     "output_type": "stream",
     "text": [
      "En Matematicas has sacado 3\n",
      "En Fisica has sacado 4\n",
      "En Quimica has sacado 5\n",
      "En Historia has sacado 6\n",
      "En Lengua has sacado 7\n",
      "{}\n"
     ]
    }
   ],
   "source": [
    "list=[\"Matematicas\",\"Fisica\",\"Quimica\",\"Historia\",\"Lengua\"]\n",
    "list_nota=[]\n",
    "for i in range(5):\n",
    "    materia=list[i]\n",
    "    nota=int(input(\"Ingrese la nota de \"+materia))\n",
    "    list_nota.append(nota) #AÑADO NOTA EN MI NUEVA LISTA\n",
    "for i in range(len(list)):\n",
    "    print(\"En\",list[i] ,\"has sacado\",list_nota[i])\n",
    "###############VER SORTED (PARA ORDENAR MI LISTA DE MENOR A MAYOR)"
   ]
  },
  {
   "cell_type": "markdown",
   "metadata": {},
   "source": [
    "16. Crear un programa que guarde en una variable el diccionario {'Euro':'€', 'Dollar':'$', 'Yen':'¥'}, pregunte al usuario por una divisa y muestre su símbolo o un mensaje de aviso si la divisa no está en el diccionario"
   ]
  },
  {
   "cell_type": "code",
   "execution_count": 21,
   "metadata": {},
   "outputs": [
    {
     "name": "stdout",
     "output_type": "stream",
     "text": [
      "Dollar simbolo: $\n",
      "Dollar simbolo:  $\n"
     ]
    }
   ],
   "source": [
    "divisas={\n",
    "    \"Euro\":\"€\",\n",
    "    \"Dollar\":\"$\",\n",
    "    \"Yen\":\"¥\",\n",
    "}\n",
    "divisa=input(\"Ingrese una divisa\").capitalize() #PRIMERA MAYUS Y LAS DEMAS MINUSCULAS\n",
    "for key in divisas:\n",
    "    if divisa==key:\n",
    "        print(divisa,\"simbolo:\",divisas.get(key))\n",
    "        break\n",
    "if divisa !=key:\n",
    "    print(\"La divisa indicada no se encuentra en el programa\")\n",
    "##############################################3333\n",
    "if divisa in divisas:\n",
    "    print (divisa,\"simbolo:\", divisas[divisa])\n",
    "else:\n",
    "    print(\"La divisa indicada no se encuentra en el programa\")\n"
   ]
  },
  {
   "cell_type": "code",
   "execution_count": 18,
   "metadata": {},
   "outputs": [
    {
     "name": "stdout",
     "output_type": "stream",
     "text": [
      "Euro , simbolo: €\n"
     ]
    }
   ],
   "source": [
    "divisas={\n",
    "    \"Euro\":\"€\",\n",
    "    \"Dollar\":\"$\",\n",
    "    \"Yen\":\"¥\",\n",
    "}\n",
    "divisa=input(\"Ingrese una divisa\")\n",
    "if divisa in divisas.keys():\n",
    "        print(divisa,\", simbolo:\",divisas[divisa])\n",
    "else:\n",
    "    print(\"La divisa indicada no se encuentra en el programa\")"
   ]
  },
  {
   "cell_type": "markdown",
   "metadata": {},
   "source": [
    "17. Crear un programa que pida al usuario una letra e indique si es una vocal o no."
   ]
  },
  {
   "cell_type": "code",
   "execution_count": 22,
   "metadata": {},
   "outputs": [
    {
     "name": "stdout",
     "output_type": "stream",
     "text": [
      "Es una vocal\n"
     ]
    }
   ],
   "source": [
    "vocales=[\"a\",\"e\",\"i\",\"o\",\"u\"]\n",
    "letra=input(\"Ingrese una letra\")\n",
    "if letra in vocales:\n",
    "     print(\"Es una vocal\")\n",
    "else:\n",
    "    print(\"No es una vocal\")\n",
    "\n"
   ]
  },
  {
   "cell_type": "code",
   "execution_count": 21,
   "metadata": {},
   "outputs": [
    {
     "name": "stdout",
     "output_type": "stream",
     "text": [
      "No es una vocal\n"
     ]
    }
   ],
   "source": [
    "vocales=[\"a\",\"e\",\"i\",\"o\",\"u\"]\n",
    "letra=input(\"Ingrese una letra\")\n",
    "letra_min=letra.lower()\n",
    "\n",
    "if letra_min in vocales:\n",
    "    print(\"Es una vocal\")\n",
    "else:\n",
    "    print(\"No es una vocal\")"
   ]
  }
 ],
 "metadata": {
  "kernelspec": {
   "display_name": "Python 3.10.7 64-bit",
   "language": "python",
   "name": "python3"
  },
  "language_info": {
   "codemirror_mode": {
    "name": "ipython",
    "version": 3
   },
   "file_extension": ".py",
   "mimetype": "text/x-python",
   "name": "python",
   "nbconvert_exporter": "python",
   "pygments_lexer": "ipython3",
   "version": "3.10.7"
  },
  "orig_nbformat": 4,
  "vscode": {
   "interpreter": {
    "hash": "c63d8c7d738c2960218a10995aedf0a7f67a49a231e71037adf0440953cdb45b"
   }
  }
 },
 "nbformat": 4,
 "nbformat_minor": 2
}
